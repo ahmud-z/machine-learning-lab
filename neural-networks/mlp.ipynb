{
 "cells": [
  {
   "cell_type": "code",
   "execution_count": 165,
   "metadata": {},
   "outputs": [],
   "source": [
    "import numpy as np\n",
    "import sklearn.neural_network"
   ]
  },
  {
   "cell_type": "code",
   "execution_count": 166,
   "metadata": {},
   "outputs": [],
   "source": [
    "xs = np.array([0, 0, 0, 1, 1, 0, 1, 1]).reshape(4, 2)\n",
    "ys = np.array([0, 1, 1, 0]).reshape(\n",
    "    4,\n",
    ")"
   ]
  },
  {
   "cell_type": "code",
   "execution_count": null,
   "metadata": {},
   "outputs": [],
   "source": [
    "model = sklearn.neural_network.MLPClassifier(\n",
    "    activation=\"relu\",\n",
    "    max_iter=10000,\n",
    "    learning_rate_init=0.0001,\n",
    "    hidden_layer_sizes=(3),\n",
    ")\n",
    "\n",
    "model.fit(xs, ys)"
   ]
  },
  {
   "cell_type": "code",
   "execution_count": 168,
   "metadata": {},
   "outputs": [
    {
     "name": "stdout",
     "output_type": "stream",
     "text": [
      "score:  0.75\n",
      "predictions:  [0 1 0 0]\n",
      "expected:  [0 1 1 0]\n"
     ]
    }
   ],
   "source": [
    "print(\"score: \", model.score(xs, ys))\n",
    "print(\"predictions: \", model.predict(xs))\n",
    "print(\"expected: \", np.array([0, 1, 1, 0]))"
   ]
  }
 ],
 "metadata": {
  "kernelspec": {
   "display_name": ".venv",
   "language": "python",
   "name": "python3"
  },
  "language_info": {
   "codemirror_mode": {
    "name": "ipython",
    "version": 3
   },
   "file_extension": ".py",
   "mimetype": "text/x-python",
   "name": "python",
   "nbconvert_exporter": "python",
   "pygments_lexer": "ipython3",
   "version": "3.12.3"
  }
 },
 "nbformat": 4,
 "nbformat_minor": 2
}
